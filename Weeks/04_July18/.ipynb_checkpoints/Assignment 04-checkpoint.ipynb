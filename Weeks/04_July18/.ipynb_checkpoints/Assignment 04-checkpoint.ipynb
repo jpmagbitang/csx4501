{
 "cells": [
  {
   "cell_type": "markdown",
   "id": "3fa7b2ac-0473-4b57-aaca-606c635c9fe7",
   "metadata": {
    "tags": []
   },
   "source": [
    "# Assignment 4 - Exploratory Data Analysis"
   ]
  },
  {
   "cell_type": "markdown",
   "id": "3237a1e3-be23-491d-a345-c8abdba732cd",
   "metadata": {},
   "source": [
    "## Introduction to the Dataset"
   ]
  },
  {
   "cell_type": "markdown",
   "id": "ab6d6b12-f9cd-43f7-a1fb-318f3d2887e9",
   "metadata": {},
   "source": [
    "This dataset includes..."
   ]
  },
  {
   "cell_type": "markdown",
   "id": "51e3fbd7-a76f-45c2-b46e-ac13bc5a5530",
   "metadata": {},
   "source": [
    "## Import Data"
   ]
  },
  {
   "cell_type": "code",
   "execution_count": null,
   "id": "92f1587f-acb8-4cb5-b7ee-463a64f67dad",
   "metadata": {},
   "outputs": [],
   "source": []
  }
 ],
 "metadata": {
  "kernelspec": {
   "display_name": "Python 3 (ipykernel)",
   "language": "python",
   "name": "python3"
  },
  "language_info": {
   "codemirror_mode": {
    "name": "ipython",
    "version": 3
   },
   "file_extension": ".py",
   "mimetype": "text/x-python",
   "name": "python",
   "nbconvert_exporter": "python",
   "pygments_lexer": "ipython3",
   "version": "3.9.12"
  }
 },
 "nbformat": 4,
 "nbformat_minor": 5
}
